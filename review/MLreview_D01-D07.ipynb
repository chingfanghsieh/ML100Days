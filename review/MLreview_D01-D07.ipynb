{
 "cells": [
  {
   "cell_type": "code",
   "execution_count": 2,
   "metadata": {},
   "outputs": [
    {
     "name": "stdout",
     "output_type": "stream",
     "text": [
      "沒有包含結束值： [0.13 0.14 0.15]\n",
      "包含結束值： [0.12 0.13 0.14 0.15 0.16]\n",
      "沒有包含結束值： [0.13  0.145 0.16 ]\n",
      "沒有包含結束值： [0.12 0.13 0.14 0.15 0.16]\n"
     ]
    }
   ],
   "source": [
    "import numpy as np\n",
    "\n",
    "a = np.arange(0.13, 0.16, step=0.01)\n",
    "print(\"沒有包含結束值：\", a)\n",
    "b = np.arange(0.12, 0.16, step=0.01)\n",
    "print(\"包含結束值：\", b)\n",
    "c = np.linspace(0.13,0.16,num=3)\n",
    "print(\"沒有包含結束值：\", c)\n",
    "d = np.linspace(0.12,0.16,num=5, endpoint = True)\n",
    "print(\"沒有包含結束值：\", d)"
   ]
  },
  {
   "cell_type": "code",
   "execution_count": 4,
   "metadata": {},
   "outputs": [
    {
     "data": {
      "image/png": "[encoded data removed]",
      "text/plain": [
       "<Figure size 432x288 with 1 Axes>"
      ]
     },
     "metadata": {
      "needs_background": "light"
     },
     "output_type": "display_data"
    }
   ],
   "source": [
    "shape, scale = 2., 2.  # mean=4, std=2*sqrt(2)\n",
    "s = np.random.gamma(shape, scale, 1000)\n",
    "\n",
    "import matplotlib.pyplot as plt\n",
    "import scipy.special as sps\n",
    "\n",
    "count, bins, ignored = plt.hist(s, 50, density=True)\n",
    "y = bins**(shape-1)*(np.exp(-bins/scale) /\n",
    "                     (sps.gamma(shape)*scale**shape))\n",
    "plt.plot(bins, y, linewidth=2, color='r')\n",
    "plt.show()\n"
   ]
  },
  {
   "cell_type": "code",
   "execution_count": 12,
   "metadata": {},
   "outputs": [
    {
     "name": "stdout",
     "output_type": "stream",
     "text": [
      "[[  0   1   2 100]\n",
      " [  4   5   6   7]\n",
      " [  8   9  10  11]]\n",
      "[[ 0  1  2  3]\n",
      " [ 4  5  6  7]\n",
      " [ 8  9 10 11]]\n",
      "[  0   1   2 100   4   5   6   7   8   9  10  11]\n",
      "[  0   4   8   1   5   9   2   6  10 100   7  11]\n"
     ]
    }
   ],
   "source": [
    "#flatten跟ravel的差異，ravel後若改位置會影響到原矩陣，flatten不會\n",
    "a = np.array([[ 0,  1,  2,  3], \n",
    "              [ 4,  5,  6,  7],\n",
    "              [ 8,  9, 10, 11]])\n",
    "\n",
    "b= a.ravel()\n",
    "b[3] = 100\n",
    "print(a)\n",
    "\n",
    "c = np.array([[ 0,  1,  2,  3], \n",
    "              [ 4,  5,  6,  7],\n",
    "              [ 8,  9, 10, 11]])\n",
    "\n",
    "d = c.flatten()\n",
    "d[3]=100\n",
    "print(c)\n",
    "\n",
    "print(a.ravel(order='C'))#先水平再垂直\n",
    "print(a.ravel(order='F'))#先垂直在水平"
   ]
  },
  {
   "cell_type": "code",
   "execution_count": 26,
   "metadata": {},
   "outputs": [
    {
     "name": "stdout",
     "output_type": "stream",
     "text": [
      "[[ 0  1  2  3  4  5  6  7]\n",
      " [ 8  9 10 11 12 13 14 15]]\n",
      "[[ 0  1  2  3]\n",
      " [ 4  5  6  7]\n",
      " [ 8  9 10 11]\n",
      " [12 13 14 15]]\n",
      "16\n",
      "[[ 0  1]\n",
      " [ 2  3]\n",
      " [ 4  5]\n",
      " [ 6  7]\n",
      " [ 8  9]\n",
      " [10 11]\n",
      " [12 13]\n",
      " [14 15]]\n",
      "[[100   1   2   3]\n",
      " [  4   5   6   7]\n",
      " [  8   9  10  11]\n",
      " [ 12  13  14  15]]\n"
     ]
    }
   ],
   "source": [
    "d = np.arange(16)\n",
    "print(d.reshape((2,8)))\n",
    "print(d.reshape((4,4)))\n",
    "print(d.size)\n",
    "print(d.reshape((8,-1)))#這裡的-1是指模糊的意思，讓系統自己計算，並非真的是指數字-1\n",
    "#若 reshape 後的陣列元素值改變，會影響原陣列對應的元素值也跟著改變\n",
    "e = d.reshape((4,4))\n",
    "e[0,0]= 100\n",
    "print(e)"
   ]
  },
  {
   "cell_type": "code",
   "execution_count": 27,
   "metadata": {},
   "outputs": [
    {
     "data": {
      "text/plain": [
       "array([[0, 1],\n",
       "       [2, 3],\n",
       "       [4, 5],\n",
       "       [6, 7],\n",
       "       [8, 9],\n",
       "       [0, 1],\n",
       "       [2, 3],\n",
       "       [4, 5]])"
      ]
     },
     "execution_count": 27,
     "metadata": {},
     "output_type": "execute_result"
    }
   ],
   "source": [
    "f = np.arange(10).reshape(5, 2)\n",
    "g = np.arange(6).reshape(3, 2)\n",
    "\n",
    "np.concatenate((f, g))"
   ]
  },
  {
   "cell_type": "code",
   "execution_count": 35,
   "metadata": {},
   "outputs": [
    {
     "name": "stdout",
     "output_type": "stream",
     "text": [
      "[[[0 1]\n",
      "  [0 1]]\n",
      "\n",
      " [[2 3]\n",
      "  [2 3]]]\n"
     ]
    },
    {
     "data": {
      "text/plain": [
       "'不知為啥錯\\nh = np.arange(4).reshape(2, 2)\\ni = np.arange(4).reshape(2, 2)\\nprint(np.hstack(h,i))\\n\\nh = np.arange(4).reshape(2, 2)\\ni = np.arange(4).reshape(2, 2)\\nprint(np.vstack(h,i))\\n'"
      ]
     },
     "execution_count": 35,
     "metadata": {},
     "output_type": "execute_result"
    }
   ],
   "source": [
    "'''函式\t說明\n",
    "numpy.stack(arrays, axis=0, out=None)\t根據指定的軸進行合併\n",
    "numpy.hstack(tup)\t根據水平軸進行合併\n",
    "numpy.vstack(tup)\t根據垂直軸進行合併\n",
    "'''\n",
    "h = np.arange(4).reshape(2, 2)\n",
    "i = np.arange(4).reshape(2, 2)\n",
    "print(np.stack((h, i), axis=1))\n",
    "\n",
    "\n",
    "'''不知為啥錯\n",
    "h = np.arange(4).reshape(2, 2)\n",
    "i = np.arange(4).reshape(2, 2)\n",
    "print(np.hstack(h,i))\n",
    "\n",
    "h = np.arange(4).reshape(2, 2)\n",
    "i = np.arange(4).reshape(2, 2)\n",
    "print(np.vstack(h,i))\n",
    "'''"
   ]
  },
  {
   "cell_type": "code",
   "execution_count": 37,
   "metadata": {},
   "outputs": [
    {
     "name": "stdout",
     "output_type": "stream",
     "text": [
      "[[0 1]\n",
      " [2 3]\n",
      " [4 5]\n",
      " [6 7]\n",
      " [8 9]]\n"
     ]
    },
    {
     "data": {
      "text/plain": [
       "[array([[0, 1]]),\n",
       " array([[2, 3]]),\n",
       " array([[4, 5]]),\n",
       " array([[6, 7]]),\n",
       " array([[8, 9]])]"
      ]
     },
     "execution_count": 37,
     "metadata": {},
     "output_type": "execute_result"
    }
   ],
   "source": [
    "a = np.arange(10).reshape(5, 2)\n",
    "print(a)\n",
    "np.split(a,5)"
   ]
  },
  {
   "cell_type": "code",
   "execution_count": 39,
   "metadata": {},
   "outputs": [
    {
     "data": {
      "text/plain": [
       "[array([[0, 1],\n",
       "        [2, 3]]),\n",
       " array([[4, 5]]),\n",
       " array([[6, 7],\n",
       "        [8, 9]])]"
      ]
     },
     "execution_count": 39,
     "metadata": {},
     "output_type": "execute_result"
    }
   ],
   "source": [
    "# split 為 (2,2), (1,2), (2,2) 三個陣列，並回傳含 3 個陣列的 List\n",
    "a = np.arange(10).reshape(5, 2)\n",
    "np.split(a, [2,3])"
   ]
  },
  {
   "cell_type": "code",
   "execution_count": null,
   "metadata": {},
   "outputs": [],
   "source": []
  }
 ],
 "metadata": {
  "kernelspec": {
   "display_name": "Python 3",
   "language": "python",
   "name": "python3"
  },
  "language_info": {
   "codemirror_mode": {
    "name": "ipython",
    "version": 3
   },
   "file_extension": ".py",
   "mimetype": "text/x-python",
   "name": "python",
   "nbconvert_exporter": "python",
   "pygments_lexer": "ipython3",
   "version": "3.8.3"
  }
 },
 "nbformat": 4,
 "nbformat_minor": 4
}
