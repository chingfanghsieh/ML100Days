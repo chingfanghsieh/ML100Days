{
 "cells": [
  {
   "cell_type": "code",
   "execution_count": null,
   "metadata": {},
   "outputs": [],
   "source": [
    "'''\n",
    "english_score = np.array([55,89,76,65,48,70])\n",
    "\n",
    "math_score = np.array([60,85,60,68,np.nan,60])\n",
    "\n",
    "chinese_score = np.array([65,90,82,72,66,77])\n",
    "\n",
    "\n",
    "上 3 列共六位同學的英文、數學、國文成績，第一個元素代表第一位同學，舉例第一位同學英文 55 分、數學 60 分、國文 65 分，\n",
    "今天第五位同學因某原因沒來考試，導致數學成績缺值，運用上列數據回答下列問題。\n",
    "\n",
    "請計算各科成績平均、最大值、最小值、標準差，其中數學缺一筆資料可忽略？\n",
    "第五位同學補考數學後成績為 55，請計算補考後數學成績平均、最大值、最小值、標準差？\n",
    "用補考後資料找出與國文成績相關係數最高的學科？\n",
    "'''"
   ]
  },
  {
   "cell_type": "code",
   "execution_count": 1,
   "metadata": {},
   "outputs": [],
   "source": [
    "import numpy as np\n",
    "\n",
    "english_score = np.array([55,89,76,65,48,70])\n",
    "\n",
    "math_score = np.array([60,85,60,68,np.nan,60])\n",
    "\n",
    "chinese_score = np.array([65,90,82,72,66,77])"
   ]
  },
  {
   "cell_type": "code",
   "execution_count": 6,
   "metadata": {},
   "outputs": [
    {
     "name": "stdout",
     "output_type": "stream",
     "text": [
      "陣列中無 nan，平均值為： 67.16666666666667\n",
      "陣列中無 nan，最大值為： 89\n",
      "陣列中無 nan，最小值為： 48\n",
      "陣列中無 nan，標準差為： 13.433995020924426\n",
      "陣列中有 nan，忽略 nan 後的平均值為： 66.6\n",
      "陣列中無 nan，忽略 nan 後的最大值為： 85.0\n",
      "陣列中無 nan，忽略 nan 後的最小值為： 60.0\n",
      "陣列中無 nan，忽略 nan 後的標準差為： 9.707728879609279\n",
      "陣列中無 nan，平均值為： 75.33333333333333\n",
      "陣列中無 nan，最大值為： 90\n",
      "陣列中無 nan，最小值為： 65\n",
      "陣列中無 nan，標準差為： 8.825468196582484\n"
     ]
    }
   ],
   "source": [
    "listt = [english_score, math_score, chinese_score]\n",
    "for i in listt:\n",
    "    if not np.isnan(np.sum(i)):\n",
    "        print(\"陣列中無 nan，平均值為：\", np.mean(i))\n",
    "        print(\"陣列中無 nan，最大值為：\", np.max(i))\n",
    "        print(\"陣列中無 nan，最小值為：\", np.min(i))\n",
    "        print(\"陣列中無 nan，標準差為：\", np.std(i))\n",
    "    else:\n",
    "        print(\"陣列中有 nan，忽略 nan 後的平均值為：\", np.nanmean(i))\n",
    "        print(\"陣列中無 nan，忽略 nan 後的最大值為：\", np.nanmax(i))\n",
    "        print(\"陣列中無 nan，忽略 nan 後的最小值為：\", np.nanmin(i))\n",
    "        print(\"陣列中無 nan，忽略 nan 後的標準差為：\", np.nanstd(i))"
   ]
  },
  {
   "cell_type": "code",
   "execution_count": 9,
   "metadata": {},
   "outputs": [
    {
     "name": "stdout",
     "output_type": "stream",
     "text": [
      "平均值為： 64.66666666666667\n",
      "最大值為： 85.0\n",
      "最小值為： 55.0\n",
      "標準差為： 9.860132971832694\n"
     ]
    }
   ],
   "source": [
    "math2 = math_score\n",
    "math2[4] = 55\n",
    "print(\"平均值為：\", np.mean(math2))\n",
    "print(\"最大值為：\", np.max(math2))\n",
    "print(\"最小值為：\", np.min(math2))\n",
    "print(\"標準差為：\", np.std(math2))"
   ]
  },
  {
   "cell_type": "code",
   "execution_count": 14,
   "metadata": {},
   "outputs": [
    {
     "name": "stdout",
     "output_type": "stream",
     "text": [
      "英文的相關性較高 [31055]\n"
     ]
    }
   ],
   "source": [
    "a = np.correlate(chinese_score,math2)\n",
    "b = np.correlate(chinese_score,english_score)\n",
    "if a > b:\n",
    "    print(\"數學的相關性較高\",a)\n",
    "elif b > a:\n",
    "    print(\"英文的相關性較高\",b)"
   ]
  },
  {
   "cell_type": "code",
   "execution_count": null,
   "metadata": {},
   "outputs": [],
   "source": []
  }
 ],
 "metadata": {
  "kernelspec": {
   "display_name": "Python 3",
   "language": "python",
   "name": "python3"
  },
  "language_info": {
   "codemirror_mode": {
    "name": "ipython",
    "version": 3
   },
   "file_extension": ".py",
   "mimetype": "text/x-python",
   "name": "python",
   "nbconvert_exporter": "python",
   "pygments_lexer": "ipython3",
   "version": "3.8.3"
  }
 },
 "nbformat": 4,
 "nbformat_minor": 4
}
